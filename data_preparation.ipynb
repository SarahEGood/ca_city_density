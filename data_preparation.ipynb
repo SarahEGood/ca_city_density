{
 "cells": [
  {
   "cell_type": "code",
   "execution_count": null,
   "metadata": {},
   "outputs": [],
   "source": []
  }
 ],
 "metadata": {
  "kernelspec": {
   "display_name": "Python 3",
   "language": "python",
   "name": "python3"
  },
  "language_info": {
   "name": "python",
   "version": "3.9.13 (tags/v3.9.13:6de2ca5, May 17 2022, 16:36:42) [MSC v.1929 64 bit (AMD64)]"
  },
  "orig_nbformat": 4,
  "vscode": {
   "interpreter": {
    "hash": "a64a2ef0b9baea3ef14d17a41be8831433fc4f0d1b79c67785200b67294e107e"
   }
  }
 },
 "nbformat": 4,
 "nbformat_minor": 2
}
